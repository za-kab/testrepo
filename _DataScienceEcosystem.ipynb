{
 "cells": [
  {
   "cell_type": "markdown",
   "id": "08293d3d-6439-47b3-a573-f327ba6ac2f2",
   "metadata": {},
   "source": [
    "# Ex2 - Data Science Tools and Ecosystem"
   ]
  },
  {
   "cell_type": "markdown",
   "id": "952c652c-dcd1-4626-9206-328af988cd9d",
   "metadata": {},
   "source": [
    "Ex3 - In this notebook, Data Science Tools and Ecosystem are summarized."
   ]
  },
  {
   "cell_type": "markdown",
   "id": "e63818e2-4ff3-4c3e-b59e-eb770dc53ad3",
   "metadata": {},
   "source": [
    "**Objectives:**\n",
    "\n",
    "- Data Science tools\n",
    "- Data Science languages\n",
    "- APIs, Data"
   ]
  },
  {
   "cell_type": "markdown",
   "id": "26b9ac4d-b9e4-4306-8925-672d2afc0c96",
   "metadata": {
    "tags": []
   },
   "source": [
    "Ex4 - Some of the popular languages that Data Scientists use are:\n",
    "\n",
    "1. Python\n",
    "2. RStudio\n",
    "3. Julia "
   ]
  },
  {
   "cell_type": "markdown",
   "id": "98e80cce-0400-48eb-af2b-49f863257965",
   "metadata": {},
   "source": [
    "Ex5 - Some of the commonly used libraries used by Data Scientists include:\n",
    "\n",
    "1. Panda\n",
    "2. Numby \n",
    "3. TeserFlows"
   ]
  },
  {
   "cell_type": "markdown",
   "id": "8ccac491-2fdd-4f5e-a975-97218ee22f06",
   "metadata": {
    "tags": []
   },
   "source": [
    "Ex6 - \n",
    "\n",
    "| Data Science Tools |\n",
    "| -------------|\n",
    "| Python |\n",
    "| RStudio |\n",
    "| Julia |"
   ]
  },
  {
   "cell_type": "markdown",
   "id": "8aff22d4-ff4a-41b3-bf8b-87114dcb4848",
   "metadata": {
    "tags": []
   },
   "source": [
    "Ex7 - Below are a few examples of evaluating arithmetic expressions in Python"
   ]
  },
  {
   "cell_type": "code",
   "execution_count": 3,
   "id": "4925e54a-bba4-49ef-8dcb-a1a1d1debc2d",
   "metadata": {
    "tags": []
   },
   "outputs": [
    {
     "data": {
      "text/plain": [
       "17"
      ]
     },
     "execution_count": 3,
     "metadata": {},
     "output_type": "execute_result"
    }
   ],
   "source": [
    "# Ex8\n",
    "\n",
    "(3*4)+5"
   ]
  },
  {
   "cell_type": "code",
   "execution_count": 5,
   "id": "fd437644-3242-488e-a3f2-f160d2246355",
   "metadata": {
    "tags": []
   },
   "outputs": [
    {
     "data": {
      "text/plain": [
       "3.3333333333333335"
      ]
     },
     "execution_count": 5,
     "metadata": {},
     "output_type": "execute_result"
    }
   ],
   "source": [
    "# Ex9\n",
    "\n",
    "# This will convert 200 minutes to hours by diving by 60\n",
    "\n",
    "200/60"
   ]
  },
  {
   "cell_type": "markdown",
   "id": "9a82368d-5732-4172-ba9a-62dacb4dc71f",
   "metadata": {},
   "source": [
    "## Author\n",
    "Zaher "
   ]
  }
 ],
 "metadata": {
  "kernelspec": {
   "display_name": "Python",
   "language": "python",
   "name": "conda-env-python-py"
  },
  "language_info": {
   "codemirror_mode": {
    "name": "ipython",
    "version": 3
   },
   "file_extension": ".py",
   "mimetype": "text/x-python",
   "name": "python",
   "nbconvert_exporter": "python",
   "pygments_lexer": "ipython3",
   "version": "3.7.12"
  }
 },
 "nbformat": 4,
 "nbformat_minor": 5
}
